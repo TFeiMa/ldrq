{
 "cells": [
  {
   "cell_type": "code",
   "execution_count": 16,
   "metadata": {
    "collapsed": true
   },
   "outputs": [],
   "source": [
    "import pandas as pd\n",
    "import numpy as np\n",
    "from scipy import linalg\n",
    "from scipy.sparse.linalg import eigsh\n",
    "\n",
    "import cvxpy as cvx\n",
    "import mosek\n",
    "import time"
   ]
  },
  {
   "cell_type": "code",
   "execution_count": 40,
   "metadata": {
    "collapsed": true
   },
   "outputs": [],
   "source": [
    "m = 5\n",
    "# np.random.seed(1)\n",
    "A1, b1, c1 = np.random.randn(m,m)*10,np.random.randn(m)*10,5\n",
    "A1 = A1.T+A1\n",
    "A2, c2 = np.random.randn(m,m)*10, 10\n",
    "AA = A2\n",
    "A2 = A2.T.dot(A2)\n",
    "# A2 = A2 - eigsh(A2,1,which='SA')[0][0]*np.eye(m)\n",
    "# A2 = A2.T*A2"
   ]
  },
  {
   "cell_type": "code",
   "execution_count": 41,
   "metadata": {},
   "outputs": [
    {
     "name": "stdout",
     "output_type": "stream",
     "text": [
      "(-17.035665113558704, -17.035667734041873)\n",
      "1.2051957412645415\n",
      "[[-0.47582198]\n",
      " [-0.05396027]\n",
      " [-0.17714114]\n",
      " [ 0.14266396]\n",
      " [ 0.15873277]]\n"
     ]
    }
   ],
   "source": [
    "def binary_dual_solve(A1,b1,c1,A2,c2):\n",
    "    # 二分法求对偶问题\n",
    "    A1_temp, b1_temp = np.insert(A1,m,values=b1,axis=0), np.insert(b1,m,values=c1)\n",
    "    A = np.insert(A1_temp,m,values=b1_temp,axis=1)\n",
    "\n",
    "    mu = eigsh(A,1,which='SA')[0][0]\n",
    "    lambda_min, lambda_max = 0, (c1-mu)/c2\n",
    "    epsilon = 1e-6\n",
    "\n",
    "    f, g, u = [], [], []\n",
    "    k, u0, d_lambda = 0, 6, 6\n",
    "\n",
    "    while abs(d_lambda)>epsilon and abs(u0)>epsilon:\n",
    "        k = k+1\n",
    "        lambda_ = (lambda_min+lambda_max)/2\n",
    "\n",
    "        A1_temp, b1_temp = np.insert(A1+lambda_*A2,m,values=b1,axis=0), np.insert(b1,m,values=c1-lambda_*c2)\n",
    "        G = np.insert(A1_temp,m,values=b1_temp,axis=1)\n",
    "\n",
    "    #     最小特征值和特征向量\n",
    "        min_e, min_ev = eigsh(G,1,which='SA')\n",
    "        y = min_ev/min_ev[-1]\n",
    "        x = y[:-1]\n",
    "        f1, f2 = y.T.dot(A).dot(y), 1+np.linalg.norm(x)**2\n",
    "        f0 = f1/f2\n",
    "        f.append(f0)\n",
    "        u0 = (x.T.dot(A2).dot(x) - c2)/(f2)\n",
    "        u.append(u0)\n",
    "        if u0>0:\n",
    "            lambda_min = lambda_\n",
    "        else:\n",
    "            lambda_max = lambda_\n",
    "        g0, d_lambda = min_e,lambda_max-lambda_min\n",
    "        g.append(g0)\n",
    "#     print((f0[0][0],g0[0]))\n",
    "#     print(lambda_)\n",
    "    return (g0[0],lambda_)\n",
    "    # print(x)"
   ]
  },
  {
   "cell_type": "code",
   "execution_count": 61,
   "metadata": {},
   "outputs": [
    {
     "data": {
      "text/plain": [
       "6"
      ]
     },
     "execution_count": 61,
     "metadata": {},
     "output_type": "execute_result"
    }
   ],
   "source": []
  },
  {
   "cell_type": "code",
   "execution_count": 63,
   "metadata": {},
   "outputs": [
    {
     "name": "stdout",
     "output_type": "stream",
     "text": [
      "-17.035667736235773\n",
      "1.2052054864680095\n"
     ]
    }
   ],
   "source": [
    "# cvx求对偶问题\n",
    "# Construct the problem.\n",
    "t = cvx.Variable()\n",
    "lambda_ = cvx.Variable()\n",
    "objective = cvx.Maximize(t)\n",
    "zero = np.zeros(m)\n",
    "A = np.insert(np.insert(A1,m,values=b1,axis=0),m,values=np.insert(b1,m,values=c1),axis=1)\n",
    "B = np.insert(np.insert(A2,m,values=zero,axis=0),m,values=np.insert(zero,m,values=-c2),axis=1)\n",
    "constraints = [A+lambda_*B-t*np.eye(m+1)>>0, lambda_ >= 0]\n",
    "prob = cvx.Problem(objective, constraints)\n",
    "\n",
    "# The optimal objective is returned by prob.solve().\n",
    "start = time.clock()\n",
    "result = prob.solve(solver=cvx.CVXOPT)\n",
    "elapsed = time.clock() - start\n",
    "# The optimal value for x is stored in x.value.\n",
    "print(t.value)\n",
    "# print(prob.value)\n",
    "print(lambda_.value)\n",
    "# print(prob.solver_stats.solve_time)\n",
    "# print(elapsed)\n",
    "value, lambda_ = t.value,lambda_.value"
   ]
  },
  {
   "cell_type": "code",
   "execution_count": 44,
   "metadata": {
    "collapsed": true
   },
   "outputs": [],
   "source": [
    "# 使用cvx求解投影梯度\n",
    "def subproblem(dh,y,rho,A2,c2):\n",
    "    x = cvx.Variable(m)\n",
    "    objctive = cvx.Minimize(rho*cvx.square(cvx.norm(x-y)) + dh*x)\n",
    "    constrain = [cvx.quad_form(x,A2) <= c2]\n",
    "    prob = cvx.Problem(objctive,constrain)\n",
    "    prob.solve(solver=cvx.SCS)\n",
    "    return x.value\n",
    "def binary_subproblem(H,b):\n",
    "    x = cvx.Variable(m)\n",
    "    objctive = cvx.Minimize(cvx.quad_form(x,H) + b*x)\n",
    "    prob = cvx.Problem(objctive)\n",
    "    prob.solve(solver=cvx.SCS)\n",
    "    return x.value\n",
    "# 二分法求子问题\n",
    "def binary_search(dh,y,rho,A2,c2):\n",
    "    t0 = dh.T.dot(y) - 1/(4*rho)*np.linalg.norm(dh)**2\n",
    "    eta_l, eta_r = 0, (rho*np.linalg.norm(y)**2 - t0)/c2\n",
    "    d_eta = eta_r - eta_l\n",
    "    cx = 6\n",
    "    I_m = 2*rho*np.eye(m)\n",
    "    b = dh - 2*rho*y\n",
    "    while d_eta > epislon and abs(cx) > epislon:\n",
    "        eta = (eta_l + eta_r)/2\n",
    "        H = I_m + eta*A2\n",
    "        x = nersterov_unconstrained(H,b)\n",
    "#         x = binary_subproblem(H,b)\n",
    "        cx = x.T.dot(A2).dot(x) - c2\n",
    "        \n",
    "        if cx > 0:\n",
    "            eta_l = eta\n",
    "        elif cx < 0:\n",
    "            eta_r = eta\n",
    "        d_eta = eta_r - eta_l\n",
    "        print((d_eta,cx))\n",
    "    return 2*x\n",
    "def nersterov_unconstrained(H,b):\n",
    "    rho = eigsh(H,1,which='LA')[0][0]\n",
    "    y1,x1,theta1 = np.zeros(m),np.zeros(m),1\n",
    "    df = 6\n",
    "    while abs(df) > epislon:\n",
    "        grad_f = 2*H.dot(y1) + b\n",
    "        x2 = y1 - 1/rho * grad_f\n",
    "        theta2 = 1/2*(1+np.sqrt(1+4*theta1**2))\n",
    "        y2 = x2 + (1-theta1)/theta2*(x2-x1)\n",
    "        df = x2.T.dot(H).dot(x2) + b.T.dot(x2) - (x1.T.dot(H).dot(x1) + b.T.dot(x1))\n",
    "        x1, y1, theta1 = x2, y2, theta2\n",
    "#         print(df)\n",
    "    return x2"
   ]
  },
  {
   "cell_type": "code",
   "execution_count": 1,
   "metadata": {},
   "outputs": [],
   "source": [
    "# 原论文版本\n",
    "# 带约束的nersterov加速梯度法求解原问题\n",
    "H = A1 + lambda_*A2 - value*np.eye(m)\n",
    "mu, L = eigsh(H,1,which='SA')[0][0], eigsh(H,1,which='LA')[0][0]\n",
    "q = mu/L\n",
    "x1 = np.random.randn(m)*10\n",
    "y = x1\n",
    "alpha0,alpha1 = 0.9,0.9\n",
    "dx = 6\n",
    "epislon = 1e-5\n",
    "k = 0\n",
    "\n",
    "while np.linalg.norm(dx) > epislon:\n",
    "    x0 = x1\n",
    "    dh = 2*(H.dot(y) + b1)\n",
    "#     x1 = subproblem(dh,y,L,A2,c2)\n",
    "    x1 = binary_search(dh,y,L,A2,c2)\n",
    "    print((np.linalg.norm(dx),x1))\n",
    "    alpha0 = alpha1\n",
    "    alpha1 = 1/2*(np.sqrt((alpha0**2 - q)**2 + 4*alpha0**2) - (alpha0**2 - q))\n",
    "    beta = (alpha0*(1-alpha0))/(alpha0**2 + alpha1)\n",
    "    y = x1 + beta*(x1 - x0)\n",
    "    dx = x1 - x0\n",
    "f1, f2 = x1.T.dot(A1.dot(x1))+2*b1.T.dot(x1)+c1, 1+np.linalg.norm(x1)**2\n",
    "f0 = f1/f2\n",
    "print(x1)\n",
    "print(f0)"
   ]
  },
  {
   "cell_type": "code",
   "execution_count": 66,
   "metadata": {
    "collapsed": true
   },
   "outputs": [],
   "source": [
    "?prob.solve()"
   ]
  },
  {
   "cell_type": "code",
   "execution_count": 65,
   "metadata": {},
   "outputs": [
    {
     "data": {
      "text/plain": [
       "['', '', '']"
      ]
     },
     "execution_count": 65,
     "metadata": {},
     "output_type": "execute_result"
    }
   ],
   "source": [
    "['']*3"
   ]
  },
  {
   "cell_type": "code",
   "execution_count": null,
   "metadata": {
    "collapsed": true
   },
   "outputs": [],
   "source": []
  },
  {
   "cell_type": "code",
   "execution_count": 64,
   "metadata": {},
   "outputs": [
    {
     "name": "stdout",
     "output_type": "stream",
     "text": [
      "[-0.47571798 -0.0539156  -0.17706759  0.14260468  0.15871833]\n"
     ]
    }
   ],
   "source": [
    "# 对比\n",
    "x = cvx.Variable(m)\n",
    "objctive = cvx.Minimize(cvx.quad_form(x,H) + 2*b1*x)\n",
    "constrain = [cvx.quad_form(x,A2)-c2 <=0]\n",
    "prob = cvx.Problem(objctive,constrain)\n",
    "prob.solve(solver=cvx.SCS)\n",
    "print(x.value)"
   ]
  },
  {
   "cell_type": "code",
   "execution_count": 34,
   "metadata": {},
   "outputs": [
    {
     "data": {
      "text/plain": [
       "array([-0.42995839,  0.10048954, -0.00882551, -0.31853316,  0.04634013])"
      ]
     },
     "execution_count": 34,
     "metadata": {},
     "output_type": "execute_result"
    }
   ],
   "source": [
    "np.linalg.inv(H).dot(b1)"
   ]
  },
  {
   "cell_type": "code",
   "execution_count": 12,
   "metadata": {
    "collapsed": true
   },
   "outputs": [],
   "source": [
    "# cvx测试qcqp\n",
    "H = A1 - value*np.eye(m)\n",
    "c = c1 - value\n",
    "from qcqp import *\n",
    "x = cvx.Variable(m)\n",
    "objctive = cvx.Minimize(cvx.quad_form(x,H) + 2*b1*x+c)\n",
    "C = A2 + 3*np.eye(m)\n",
    "constrain = [cvx.quad_form(x,C)-c2 >= 0]\n",
    "prob = cvx.Problem(objctive,constrain)\n",
    "# Create a QCQP handler.\n",
    "qcqp = QCQP(prob)\n",
    "\n",
    "# Solve the SDP relaxation and get a starting point to a local method\n",
    "qcqp.suggest(SDR)\n",
    "print(\"SDR lower bound: %.3f\" % qcqp.sdr_bound)\n",
    "\n",
    "# Attempt to improve the starting point given by the suggest method\n",
    "f_cd, v_cd = qcqp.improve(COORD_DESCENT)\n",
    "print(\"Coordinate descent: objective %.3f, violation %.3f\" % (f_cd, v_cd))\n",
    "print(x.value)"
   ]
  },
  {
   "cell_type": "code",
   "execution_count": 12,
   "metadata": {},
   "outputs": [
    {
     "ename": "TypeError",
     "evalue": "__init__() got an unexpected keyword argument 'hessp'",
     "output_type": "error",
     "traceback": [
      "\u001b[0;31m---------------------------------------------------------------------------\u001b[0m",
      "\u001b[0;31mTypeError\u001b[0m                                 Traceback (most recent call last)",
      "\u001b[0;32m<ipython-input-12-686e9697e8c1>\u001b[0m in \u001b[0;36m<module>\u001b[0;34m()\u001b[0m\n\u001b[1;32m     12\u001b[0m \u001b[0mcons_grad\u001b[0m \u001b[0;34m=\u001b[0m \u001b[0;32mlambda\u001b[0m \u001b[0mx\u001b[0m \u001b[0;34m:\u001b[0m \u001b[0mA2\u001b[0m\u001b[0;34m.\u001b[0m\u001b[0mdot\u001b[0m\u001b[0;34m(\u001b[0m\u001b[0mx\u001b[0m\u001b[0;34m)\u001b[0m\u001b[0;34m\u001b[0m\u001b[0m\n\u001b[1;32m     13\u001b[0m \u001b[0mcons_hess\u001b[0m \u001b[0;34m=\u001b[0m \u001b[0;32mlambda\u001b[0m \u001b[0mx\u001b[0m \u001b[0;34m:\u001b[0m \u001b[0mA2\u001b[0m\u001b[0;34m\u001b[0m\u001b[0m\n\u001b[0;32m---> 14\u001b[0;31m \u001b[0mnonlinear_constraint\u001b[0m \u001b[0;34m=\u001b[0m \u001b[0mNonlinearConstraint\u001b[0m\u001b[0;34m(\u001b[0m\u001b[0mcons_fun\u001b[0m\u001b[0;34m,\u001b[0m\u001b[0;34m-\u001b[0m\u001b[0mnp\u001b[0m\u001b[0;34m.\u001b[0m\u001b[0minf\u001b[0m\u001b[0;34m,\u001b[0m\u001b[0;36m0\u001b[0m\u001b[0;34m,\u001b[0m \u001b[0mjac\u001b[0m\u001b[0;34m=\u001b[0m\u001b[0mcons_grad\u001b[0m\u001b[0;34m,\u001b[0m \u001b[0mhessp\u001b[0m\u001b[0;34m=\u001b[0m\u001b[0mcons_hess\u001b[0m\u001b[0;34m)\u001b[0m\u001b[0;34m\u001b[0m\u001b[0m\n\u001b[0m\u001b[1;32m     15\u001b[0m \u001b[0mx0\u001b[0m \u001b[0;34m=\u001b[0m \u001b[0mnp\u001b[0m\u001b[0;34m.\u001b[0m\u001b[0mrandom\u001b[0m\u001b[0;34m.\u001b[0m\u001b[0mrandn\u001b[0m\u001b[0;34m(\u001b[0m\u001b[0mm\u001b[0m\u001b[0;34m)\u001b[0m\u001b[0;34m*\u001b[0m\u001b[0;36m10\u001b[0m\u001b[0;34m\u001b[0m\u001b[0m\n\u001b[1;32m     16\u001b[0m \u001b[0mres\u001b[0m \u001b[0;34m=\u001b[0m \u001b[0mminimize\u001b[0m\u001b[0;34m(\u001b[0m\u001b[0mobj_fun\u001b[0m\u001b[0;34m,\u001b[0m\u001b[0mx0\u001b[0m\u001b[0;34m,\u001b[0m\u001b[0mmethod\u001b[0m\u001b[0;34m=\u001b[0m\u001b[0;34m'trust-constr'\u001b[0m\u001b[0;34m,\u001b[0m\u001b[0mjac\u001b[0m\u001b[0;34m=\u001b[0m\u001b[0mobj_grad\u001b[0m\u001b[0;34m,\u001b[0m\u001b[0mhess\u001b[0m\u001b[0;34m=\u001b[0m\u001b[0mobj_hess\u001b[0m\u001b[0;34m,\u001b[0m\u001b[0mconstraints\u001b[0m\u001b[0;34m=\u001b[0m\u001b[0;34m[\u001b[0m \u001b[0mnonlinear_constraint\u001b[0m\u001b[0;34m]\u001b[0m\u001b[0;34m)\u001b[0m\u001b[0;34m\u001b[0m\u001b[0m\n",
      "\u001b[0;31mTypeError\u001b[0m: __init__() got an unexpected keyword argument 'hessp'"
     ]
    }
   ],
   "source": [
    "# scipy测试qcqp\n",
    "from scipy.optimize import minimize\n",
    "from scipy.optimize import NonlinearConstraint\n",
    "\n",
    "H = A1 - value*np.eye(m)\n",
    "c = c1 - value\n",
    "obj_fun = lambda x : x.T.dot(H).dot(x) + 2*b1.T.dot(x) + c\n",
    "obj_grad = lambda x : H.dot(x) + 2*b1\n",
    "obj_hess = lambda x : H\n",
    "\n",
    "cons_fun = lambda x : x.T.dot(A2).dot(x) - c2\n",
    "cons_grad = lambda x : A2.dot(x)\n",
    "cons_hess = lambda x : A2\n",
    "nonlinear_constraint = NonlinearConstraint(cons_fun,-np.inf,0, jac=cons_grad, hess=cons_hess)\n",
    "x0 = np.random.randn(m)*10\n",
    "res = minimize(obj_fun,x0,method='trust-constr',jac=obj_grad,hess=obj_hess,constraints=[ nonlinear_constraint])"
   ]
  },
  {
   "cell_type": "code",
   "execution_count": 13,
   "metadata": {},
   "outputs": [
    {
     "name": "stdout",
     "output_type": "stream",
     "text": [
      "CPXPARAM_Simplex_Display                         0\n",
      "CPXPARAM_Read_DataCheck                          1\n",
      "CPXPARAM_MIP_Display                             0\n",
      "CPXPARAM_Barrier_Display                         0\n",
      "CPXPARAM_Barrier_QCPConvergeTol                  1e-08\n"
     ]
    },
    {
     "data": {
      "text/plain": [
       "{'cplex_solution': <cplex._internal._subinterfaces.SolutionInterface at 0x7f15d81ee8d0>,\n",
       " 'obj': -5.0807308854858055,\n",
       " 'status': 'optimal',\n",
       " 'time': 0.007035017013549805}"
      ]
     },
     "execution_count": 13,
     "metadata": {},
     "output_type": "execute_result"
    }
   ],
   "source": [
    "import picos as pic\n",
    "import cvxopt as cvx\n",
    "\n",
    "H = A1 - value*np.eye(m) + lambda_*A2\n",
    "c = c1 - value\n",
    "\n",
    "H = pic.new_param('H',H)\n",
    "c = pic.new_param('c',c)\n",
    "b1 = pic.new_param('b1',b1)\n",
    "\n",
    "prob = pic.Problem()\n",
    "x = prob.add_variable('x',m)\n",
    "prob.set_objective('min',x.T*H* x + 2*b1.T* x +c)\n",
    "prob.solve(verbose=0,solver='cplex')"
   ]
  },
  {
   "cell_type": "code",
   "execution_count": 11,
   "metadata": {},
   "outputs": [
    {
     "data": {
      "text/plain": [
       "['cvxopt', 'mosek7', 'cplex']"
      ]
     },
     "execution_count": 11,
     "metadata": {},
     "output_type": "execute_result"
    }
   ],
   "source": [
    "pic.tools.available_solvers()"
   ]
  },
  {
   "cell_type": "markdown",
   "metadata": {},
   "source": [
    "## 系统版本\n",
    "Linux version 3.10.0-514.16.1.el7.x86_64 (builder@kbuilder.dev.centos.org) (gcc version 4.8.5 20150623 (Red Hat 4.8.5-11) (GCC) ) #1 SMP Wed Apr 12 15:04:24 UTC 2017\n",
    "## CPU版本\n",
    "\n",
    "Intel(R) Xeon(R) CPU E5-2630 v4 @ 2.20GHz\n",
    "\n",
    "## 内存\n",
    "128G"
   ]
  },
  {
   "cell_type": "code",
   "execution_count": 68,
   "metadata": {},
   "outputs": [
    {
     "data": {
      "text/plain": [
       "125.66980743408203"
      ]
     },
     "execution_count": 68,
     "metadata": {},
     "output_type": "execute_result"
    }
   ],
   "source": [
    "131774344/(2**20)"
   ]
  },
  {
   "cell_type": "code",
   "execution_count": null,
   "metadata": {
    "collapsed": true
   },
   "outputs": [],
   "source": []
  }
 ],
 "metadata": {
  "kernelspec": {
   "display_name": "Python 3",
   "language": "python",
   "name": "python3"
  },
  "language_info": {
   "codemirror_mode": {
    "name": "ipython",
    "version": 3
   },
   "file_extension": ".py",
   "mimetype": "text/x-python",
   "name": "python",
   "nbconvert_exporter": "python",
   "pygments_lexer": "ipython3",
   "version": "3.6.0"
  }
 },
 "nbformat": 4,
 "nbformat_minor": 2
}
